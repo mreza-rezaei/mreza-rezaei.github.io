{
 "cells": [
  {
   "cell_type": "markdown",
   "metadata": {},
   "source": [
    "## [A Comparison Study of Point-Process Filter and Deep Learning Performance in Estimating Rat Position Using an Ensemble of Place Cells](https://www.researchgate.net/publication/324390955_A_Comparison_Study_of_Point-Process_Filter_and_Deep_Learning_Performance_in_Estimating_Rat_Position_Using_an_Ensemble_of_Place_Cells)\n",
    "\n",
    "###### Conference: 40th International Conference of the IEEE Engineering in Medicine and Biology Science (EMBC 2018)At: Hawaii, USA"
   ]
  }
 ],
 "metadata": {
  "kernelspec": {
   "display_name": "Python 2",
   "language": "python",
   "name": "python2"
  },
  "language_info": {
   "codemirror_mode": {
    "name": "ipython",
    "version": 2
   },
   "file_extension": ".py",
   "mimetype": "text/x-python",
   "name": "python",
   "nbconvert_exporter": "python",
   "pygments_lexer": "ipython2",
   "version": "2.7.15"
  }
 },
 "nbformat": 4,
 "nbformat_minor": 2
}
